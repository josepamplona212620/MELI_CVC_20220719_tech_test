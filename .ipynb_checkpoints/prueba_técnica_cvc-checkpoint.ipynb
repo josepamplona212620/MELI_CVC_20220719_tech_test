{
 "cells": [
  {
   "cell_type": "markdown",
   "id": "e7eb4236",
   "metadata": {},
   "source": [
    "- **Nombre del candidato:**\n",
    "- **Fecha:**\n",
    "- **Email de contacto:**"
   ]
  },
  {
   "cell_type": "markdown",
   "id": "3aae35b5",
   "metadata": {},
   "source": [
    "### Introducción\n",
    "\n",
    "El equipo de Moderaciones IT (ModIT) dentro de Mercado Libre, se encarga de bloquear productos del marketplace que infringen políticas como derechos de autor, derechos de marca o aquellos cuyas imágenes no cumplen ciertos estándares de calidad. Estas bajas o moderaciones se pueden realizar manualmente o de forma automática, esta última siempre apoyada por modelos de Machine Learning que toman decisiones con base en los atributos (precio, marca, título, descripción, etc) y/o las imágenes de los productos.\n",
    "\n",
    "Debido a que Mercado Libre tiene como prioridad en el 2022 el segmento de moda, ModIT está analizando todos los productos nuevos dentro del segmento de moda con el fin de moderar aquellos cuya imagen de portada no presente el producto en un fondo plano en color blanco o crema. Teniendo en cuenta que este trabajo está siendo realizado de forma manual por un equipo de 10 personas (moderadores) el análisis de ítems se limita a un total de 4,000 diarios. \n",
    "\n",
    "Ante esto nuestro equipo decide aceptar el reto y disparar un proceso de experimentación para identificar si podríamos o no generar algún recurso que apoye al equipo ModIT para automatizar el proceso y agregar valor a la experiencia laboral de los moderadores. \n",
    "\n",
    "A continuación te presentaremos 3 tareas comunes que nos enfrentamos como equipo al momento proponer una solución a algún problema planteado, para resolver cada una de ellas ten en cuenta los siguientes puntos:\n",
    "\n",
    "1. Siéntete libre de realizar preguntas ante cualquier duda que se te presente. Estamos a un correo de distancia.\n",
    "2. Los experimentos que realices deben ser replicables. Asegúrate de dejar disponible todo lo necesario para que podamos ejecutar tu código. Puedes usar archivos auxiliares como archivo de dependencias o scripts con funciones o clases.\n",
    "3. Es importante que documentes lo que más puedas de tu código y dejes plasmado todas las ideas, procesos, experimentos, hipótesis y/o conclusiones que tuviste mientras estabas resolviendo el problema.\n",
    "4. No esperamos una solución perfecta, para nosotros es más importante el proceso que planteas que el performance de la solución.\n",
    "\n",
    "Mucha suerte!"
   ]
  },
  {
   "cell_type": "markdown",
   "id": "601c9734",
   "metadata": {},
   "source": [
    "### Parte I\n",
    "\n",
    "Para el proceso de experimentación ModIT nos envía un archivo CSV (`training_data.csv`) con las siguientes columnas:\n",
    "- **item_id:** Identificador único de item dentro del marketplace.\n",
    "- **site_id:** País al que pertenece el ítem.\n",
    "- **domain_id:** Categoría del marketplace a la que pertenece el ítem.\n",
    "- **picture_id:** Identificador único de la imagen de portada del ítem. Con el *picture_id* podrás construir una url para descargar cada imagen, la estructura es la siguiente: https://http2.mlstatic.com/D_{picture_id}-F.jpg, e.g. http://http2.mlstatic.com/D_680853-MLM50014173158_052022-F.jpg\n",
    "- **correct_background?:** 1 si el producto se presenta en un fondo apropiado, 0 de lo contrario.\n",
    "\n",
    "En esta sección se requiere que realices los experimentos necesarios que permitan responder sí podemos o no dar solución al problema. "
   ]
  },
  {
   "cell_type": "code",
   "execution_count": null,
   "id": "9d225c6f",
   "metadata": {},
   "outputs": [],
   "source": []
  },
  {
   "cell_type": "markdown",
   "id": "d399fcd4",
   "metadata": {},
   "source": [
    "### Parte II\n",
    "\n",
    "Con el fin de evaluar la solución, se nos hace llegar un nuevo dataset (`productive_data.csv`) con los últimos 5,800 ítems revisados por el equipo de moderadores. La idea en esta parte es que realices una evaluación de tu propuesta y nos hagas saber si estaría lista para puesta en producción. **Nota:** Recuerda que en Mercado Libre trabajamos codo a codo para alcanzar nuestros objetivos así que cualquier duda o solicitud con gusto será atendida por tus compañeros de equipo o stakeholders."
   ]
  },
  {
   "cell_type": "code",
   "execution_count": null,
   "id": "25e1ae42",
   "metadata": {},
   "outputs": [],
   "source": []
  },
  {
   "cell_type": "markdown",
   "id": "6c959447",
   "metadata": {},
   "source": [
    "### Parte III\n",
    "\n",
    "Debido al gran volumen de ítems que procesamos día a día, algún error en nuestras soluciones podría llegar a afectar muchos vendedores y generar malas experiencias de usuario en el marketplace. Con lo cual, solemos penalizar bastante los errores de clasificación que involucren bajas erróneas de ítems. Como última tarea, te proponemos plantear un proceso que nos permita maximizar la precisión de tu solución con base a los datos que tienes disponibles hasta el momento."
   ]
  },
  {
   "cell_type": "code",
   "execution_count": null,
   "id": "31dca59b",
   "metadata": {},
   "outputs": [],
   "source": []
  }
 ],
 "metadata": {
  "kernelspec": {
   "display_name": "Python 3 (ipykernel)",
   "language": "python",
   "name": "python3"
  },
  "language_info": {
   "codemirror_mode": {
    "name": "ipython",
    "version": 3
   },
   "file_extension": ".py",
   "mimetype": "text/x-python",
   "name": "python",
   "nbconvert_exporter": "python",
   "pygments_lexer": "ipython3",
   "version": "3.8.10"
  }
 },
 "nbformat": 4,
 "nbformat_minor": 5
}
